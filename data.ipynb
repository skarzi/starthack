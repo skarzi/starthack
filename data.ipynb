{
 "cells": [
  {
   "cell_type": "code",
   "execution_count": 164,
   "metadata": {
    "collapsed": true,
    "deletable": true,
    "editable": true
   },
   "outputs": [],
   "source": [
    "import requests"
   ]
  },
  {
   "cell_type": "code",
   "execution_count": 165,
   "metadata": {
    "collapsed": true
   },
   "outputs": [],
   "source": [
    "jsn = requests.get('http://7bfeba68.ngrok.io/transactions').json()"
   ]
  },
  {
   "cell_type": "code",
   "execution_count": 166,
   "metadata": {
    "collapsed": false,
    "deletable": true,
    "editable": true
   },
   "outputs": [],
   "source": [
    "import pandas as pd"
   ]
  },
  {
   "cell_type": "code",
   "execution_count": 167,
   "metadata": {
    "collapsed": false,
    "deletable": true,
    "editable": true
   },
   "outputs": [],
   "source": [
    "df = pd.DataFrame(jsn)"
   ]
  },
  {
   "cell_type": "code",
   "execution_count": 168,
   "metadata": {
    "collapsed": false,
    "deletable": true,
    "editable": true
   },
   "outputs": [],
   "source": [
    "places = df.counterPartyName.unique()"
   ]
  },
  {
   "cell_type": "code",
   "execution_count": 192,
   "metadata": {
    "collapsed": false,
    "deletable": true,
    "editable": true
   },
   "outputs": [
    {
     "data": {
      "text/plain": [
       "array(['ÜBERWEISUNG  Miete', 'POS MIT PIN. Berlin Mitte',\n",
       "       'SEPA-BASISLASTSCHRIFT SVWZ+ TK-BuchNr 33306543912 Monat 03/16 K258289245 Beitraege ',\n",
       "       'SEPA-BASISLASTSCHRIFT Abrechnungfuer 0178-6571111RNGNR 1163365100',\n",
       "       'POS MIT PIN. Einkauf', 'Rech 69788786',\n",
       "       'ÜBERWEISUNG Gehalt Februar', 'Barauszahlung, Schule',\n",
       "       'SEPA-BASISLASTSCHRIFT Abrechnungfuer 0178-6571111RNGNR 1163365110',\n",
       "       'SEPA-BASISLASTSCHRIFT SVWZ+ TK-BuchNr 33306543912 Monat 04/16 K258289245 Beitraege',\n",
       "       'Ihr Drogeriemarkt am Platz', 'ÜBERWEISUNG Gehalt März',\n",
       "       'SEPA-BASISLASTSCHRIFT SVWZ+ TK-BuchNr 33306543912 Monat 05/16 K258289245 Beitraege',\n",
       "       'SEPA-BASISLASTSCHRIFT Abrechnungfuer 0178-6571111RNGNR 1163365120',\n",
       "       'Barauszahlung, Markt', 'ÜBERWEISUNG Gehalt April',\n",
       "       'Joga fuer Anfaenger', 'Sport', 'Rechnung',\n",
       "       'SEPA-BASISLASTSCHRIFT Abrechnungfuer 0178-6571111RNGNR 1163365130',\n",
       "       'SEPA-BASISLASTSCHRIFT SVWZ+ TK-BuchNr 33306543912 Monat 06/16 K258289245 Beitraege',\n",
       "       'Wir hoffen sie hatten eine gute Fahrt nach München',\n",
       "       'ÜBERWEISUNG Gehalt Mai', 'POS MIT PIN. Guten Appetit',\n",
       "       'POS MIT PIN. Museumtour', 'POS MIT PIN. Rechnung 4234568',\n",
       "       \"POS MIT PIN. N' Guadn!\", 'POS MIT PIN. RechnungsNr. 2367563423452',\n",
       "       'Wir hoffen sie hatten eine gute Fahrt nach Berlin',\n",
       "       'SEPA-BASISLASTSCHRIFT SVWZ+ TK-BuchNr 33306543912 Monat 07/16 K258289245 Beitraege',\n",
       "       'SEPA-BASISLASTSCHRIFT Abrechnungfuer 0178-6571111RNGNR 1163365140',\n",
       "       'ÜBERWEISUNG Gehalt Juni', 'Kampuslauf',\n",
       "       'Wir wünschen ihnen eine schöne Reise nach Köln!',\n",
       "       'Rech 4567890 Berlin-Köln', 'Danke fuer Ihren Einkauf',\n",
       "       'POS MIT PIN. 1x Studententicket', 'Danke für ihre Fahrt mit uns',\n",
       "       'POS MIT PIN. Sie lieben es offensichtlich auch',\n",
       "       'POS MIT PIN. Bootstour C', 'POS MIT PIN. Rech 4567890',\n",
       "       'POS MIT PIN. Eintritt Dom', 'Rech 4576590 Köln-Berlin',\n",
       "       'SEPA-BASISLASTSCHRIFT SVWZ+ TK-BuchNr 33306543912 Monat 08/16 K258289245 Beitraege',\n",
       "       'Rech 89777786', 'Viel Spaß in London, mein Schatz',\n",
       "       'SEPA-BASISLASTSCHRIFT Abrechnungfuer 0178-6571111RNGNR 1163365150',\n",
       "       'Flug TXL-LHR and Ret.', 'REWE sagt Danke',\n",
       "       'ÜBERWEISUNG Gehalt Juli',\n",
       "       'POS mit PIN. Ticket Berlin HBF-Berlin Flughafen',\n",
       "       'Withdrawl 400 pounds at LHR', 'POS mit PIN. Oystercard 3-day-pass',\n",
       "       '1 Peperoni L, 1 Hawai M',\n",
       "       'POS mit PIN. Thanks for buying your groceries at Waitrose',\n",
       "       'POS mit PIN. 1x Ticket for the tour',\n",
       "       'POS mit PIN. Bill nr. 354571286',\n",
       "       \"POS mit PIN. The world's best bras\",\n",
       "       'POS mit PIN. Thanks for buying at our store',\n",
       "       'POS mit PIN. Enjoy!', 'POS mit PIN. Bill nr. 23565612387',\n",
       "       \"It's always worth to go duck yourself\",\n",
       "       'POS mit PIN. We hope you had a great view!',\n",
       "       'POS mit PIN. Bill Nr. 348773421',\n",
       "       'We hope you will enjoy your stay in Wadebridge, Cornwall',\n",
       "       'POS mit PIN. 2 Tickets London-Wadebridge, Cornwall',\n",
       "       'Withdrawl 230 pounds at Wadebridge ATM',\n",
       "       'We hope you will enjoy your stay in the Lake District',\n",
       "       'POS mit PIN. 2 Tickets Cornwall-Lake District',\n",
       "       'POS mit PIN. Bill nr. 3264123346',\n",
       "       'POS mit PIN. 2 Tickets Lake District-London',\n",
       "       'POS mit PIN. Zusatzgepäck', 'Bill nr. 464576523476',\n",
       "       'Ticket Berlin Flughafen-Berlin HBF',\n",
       "       'SEPA-BASISLASTSCHRIFT Abrechnungfuer 0178-6571111RNGNR 1163365160',\n",
       "       'SEPA-BASISLASTSCHRIFT SVWZ+ TK-BuchNr 33306543912 Monat 09/16 K258289245 Beitraege',\n",
       "       'ÜBERWEISUNG Gehalt August', 'Semesterticket',\n",
       "       'Rech 8886590 Köln-Berlin'], dtype=object)"
      ]
     },
     "execution_count": 192,
     "metadata": {},
     "output_type": "execute_result"
    }
   ],
   "source": [
    "df.sort_values(by='bookingDate').usage.unique()"
   ]
  },
  {
   "cell_type": "code",
   "execution_count": 170,
   "metadata": {
    "collapsed": false,
    "deletable": true,
    "editable": true
   },
   "outputs": [
    {
     "data": {
      "text/plain": [
       "array(['BlaBlaCar', 'Studentenwerk Berlin', 'Rewe AG', 'Telekom AG',\n",
       "       'Techniker Krankenkasse', 'E-PLUS SERVICE GMBH', 'Deutsche Bahn AG',\n",
       "       \"Real London Souvenier's LHR\", 'Lufthansa AG',\n",
       "       'To the golden elephant', 'Eastlondon Train association',\n",
       "       'Claudia Müller', 'Airbnb', 'Barclays', 'Icebar London',\n",
       "       'London Eye', 'London Duck Tours',\n",
       "       'The one and only Steak in London', 'Hollister Regent Street',\n",
       "       'Abercrombie & Fitch Mayfair',\n",
       "       \"Victoria's Secret Brookstreet, London\", 'Waitrose', 'Starbucks',\n",
       "       'Madame Tussauds London', \"Domino's Pizza\",\n",
       "       'London Oyster Tavelcard', 'Marktkauf', 'Aldi Nord',\n",
       "       'Annemarie Theke', 'Amazon S.a.r.L.', 'Kölner Dom', 'UBER',\n",
       "       'Kaffe Brandenburg', 'Rheintours', 'McDonalds',\n",
       "       'Kölner Schokoladenmuseum', 'Studentenwerk Berlin, Sport',\n",
       "       'Deutsche Bank', 'DM', 'Blablacar', 'Alte Pinakothek', 'Gamsbar',\n",
       "       'P1', \"L'Osteria am Gasteig\", 'Vapiano Odeonsplatz', 'IKEA',\n",
       "       'Karstadt AG'], dtype=object)"
      ]
     },
     "execution_count": 170,
     "metadata": {},
     "output_type": "execute_result"
    }
   ],
   "source": [
    "places"
   ]
  },
  {
   "cell_type": "code",
   "execution_count": 183,
   "metadata": {
    "collapsed": true,
    "deletable": true,
    "editable": true
   },
   "outputs": [],
   "source": [
    "used = [' BlaBlaCar ', ' Uber ', 'museum', ' Airbnb ', 'hotel', 'bar', ' McDonalds ', ' Lyft ', 'taxi']"
   ]
  },
  {
   "cell_type": "code",
   "execution_count": 184,
   "metadata": {
    "collapsed": false,
    "deletable": true,
    "editable": true
   },
   "outputs": [
    {
     "name": "stdout",
     "output_type": "stream",
     "text": [
      "{'Berlin', 'Hollister', 'London', 'Tours', 'Victoria'}\n"
     ]
    }
   ],
   "source": [
    "from geotext import GeoText\n",
    "cities_list = set()\n",
    "for place in places:\n",
    "    for tok in place.split():\n",
    "        cities = GeoText(tok)\n",
    "        cities_list = cities_list.union(set(cities.cities))\n",
    "print(cities_list)"
   ]
  },
  {
   "cell_type": "code",
   "execution_count": 185,
   "metadata": {
    "collapsed": true,
    "deletable": true,
    "editable": true
   },
   "outputs": [],
   "source": [
    "import re"
   ]
  },
  {
   "cell_type": "code",
   "execution_count": 186,
   "metadata": {
    "collapsed": false,
    "deletable": true,
    "editable": true
   },
   "outputs": [
    {
     "name": "stdout",
     "output_type": "stream",
     "text": [
      "BlaBlaCar\n",
      "Uber\n",
      "museum\n",
      "Airbnb\n",
      "bar\n",
      "McDonalds\n"
     ]
    }
   ],
   "source": [
    "for patt in used:\n",
    "    if re.findall('{}'.format(patt.lower()), ' '.join(places).lower()):\n",
    "        print(patt.strip())"
   ]
  },
  {
   "cell_type": "code",
   "execution_count": null,
   "metadata": {
    "collapsed": true,
    "deletable": true,
    "editable": true
   },
   "outputs": [],
   "source": [
    "from datetime import datetime"
   ]
  },
  {
   "cell_type": "code",
   "execution_count": null,
   "metadata": {
    "collapsed": false,
    "deletable": true,
    "editable": true
   },
   "outputs": [],
   "source": [
    "d = datetime.strptime(flights[1]['InboundLeg']['DepartureDate'], '%Y-%m-%dT%H:%M:%S')"
   ]
  },
  {
   "cell_type": "code",
   "execution_count": 1,
   "metadata": {
    "collapsed": true,
    "deletable": true,
    "editable": true
   },
   "outputs": [],
   "source": [
    "import time\n",
    "from datetime import datetime, timedelta\n",
    "\n",
    "import requests\n",
    "\n",
    "from skyscanner_api_ import DataProvider\n",
    "import pandas as pd\n",
    "\n",
    "API_KEY = 'ma595491219569679758263226220714'"
   ]
  },
  {
   "cell_type": "code",
   "execution_count": 2,
   "metadata": {
    "collapsed": false,
    "deletable": true,
    "editable": true
   },
   "outputs": [],
   "source": [
    "from skyscanner_live_pricing import LivePricing"
   ]
  },
  {
   "cell_type": "code",
   "execution_count": 86,
   "metadata": {
    "collapsed": true,
    "deletable": true,
    "editable": true
   },
   "outputs": [],
   "source": [
    "outbound_date = (datetime.today() + timedelta(days=2)).date()\n",
    "inbound_date = (datetime.today() + timedelta(days=7)).date()"
   ]
  },
  {
   "cell_type": "code",
   "execution_count": 87,
   "metadata": {
    "collapsed": false,
    "deletable": true,
    "editable": true
   },
   "outputs": [],
   "source": [
    "cheapest = LivePricing(\n",
    "        DataProvider.get_suggestions('Warszawa')[1]['code'].split('-')[0],\n",
    "        DataProvider.get_suggestions('Zurych')[-1]['code'].split('-')[0],\n",
    "        outbound_date,\n",
    "        inbound_date,\n",
    "        1).get_cheapest()"
   ]
  },
  {
   "cell_type": "code",
   "execution_count": 88,
   "metadata": {
    "collapsed": false,
    "deletable": true,
    "editable": true
   },
   "outputs": [
    {
     "data": {
      "text/plain": [
       "dict_keys(['Segments', 'Status', 'Legs', 'Query', 'Itineraries', 'Currencies', 'Carriers', 'SessionKey', 'Places', 'Agents'])"
      ]
     },
     "execution_count": 88,
     "metadata": {},
     "output_type": "execute_result"
    }
   ],
   "source": [
    "cheapest.keys()"
   ]
  },
  {
   "cell_type": "code",
   "execution_count": 131,
   "metadata": {
    "collapsed": true,
    "deletable": true,
    "editable": true
   },
   "outputs": [],
   "source": [
    "from copy import deepcopy\n",
    "\n",
    "def del_keys(d):\n",
    "    copy = deepcopy(d)\n",
    "    for key in d.keys():\n",
    "        if key not in {'Carriers', 'arrival_date', 'arrival_time', 'time', 'date', 'Duration'}:\n",
    "            del copy[key]\n",
    "    return copy"
   ]
  },
  {
   "cell_type": "code",
   "execution_count": 137,
   "metadata": {
    "collapsed": true,
    "deletable": true,
    "editable": true
   },
   "outputs": [],
   "source": [
    "carriers_mapping = {x['Id']: (x['Name'], x['ImageUrl']) for x in cheapest['Carriers']}\n",
    "agents_mapping = {c['Id']:c['ImageUrl'] for c in cheapest['Agents']}\n",
    "details = {c['Id']: c for c in cheapest['Legs']}"
   ]
  },
  {
   "cell_type": "code",
   "execution_count": 147,
   "metadata": {
    "collapsed": false,
    "deletable": true,
    "editable": true
   },
   "outputs": [],
   "source": [
    "def process_data(c):\n",
    "    inbound = details[c['InboundLegId']]\n",
    "    outbound = details[c['OutboundLegId']]\n",
    "\n",
    "    inbound['date'] = datetime.strptime(inbound['Departure'],'%Y-%m-%dT%H:%M:%S').date()\n",
    "    outbound['date'] = datetime.strptime(outbound['Departure'],'%Y-%m-%dT%H:%M:%S').date()\n",
    "    inbound['time'] = datetime.strptime(inbound['Departure'],'%Y-%m-%dT%H:%M:%S').time()\n",
    "    outbound['time'] = datetime.strptime(outbound['Departure'],'%Y-%m-%dT%H:%M:%S').time()\n",
    "\n",
    "    inbound['arrival_date'] = datetime.strptime(inbound['Arrival'],'%Y-%m-%dT%H:%M:%S').date()\n",
    "    outbound['arrival_date'] = datetime.strptime(outbound['Arrival'],'%Y-%m-%dT%H:%M:%S').date()\n",
    "    inbound['arrival_time'] = datetime.strptime(inbound['Arrival'],'%Y-%m-%dT%H:%M:%S').time()\n",
    "    outbound['arrival_time'] = datetime.strptime(outbound['Arrival'],'%Y-%m-%dT%H:%M:%S').time()\n",
    "\n",
    "    print(inbound['Carriers'])\n",
    "    \n",
    "    try:\n",
    "        inbound['Carriers'] = [carriers_mapping[x] for x in inbound['Carriers']]\n",
    "    except:\n",
    "        pass\n",
    "    \n",
    "    try:\n",
    "        outbound['Carriers'] = [carriers_mapping[x] for x in outbound['Carriers']]\n",
    "    except:\n",
    "        pass\n",
    "\n",
    "\n",
    "\n",
    "\n",
    "    c['InboundDetails'] = del_keys(inbound)\n",
    "    c['OutboundDetails'] = del_keys(outbound)\n",
    "\n",
    "    del c['OutboundLegId']\n",
    "    del c['InboundLegId']\n",
    "    del c['BookingDetailsLink']\n",
    "    for x in c['PricingOptions']:\n",
    "        x['Agents'] = [agents_mapping[p] for p in x['Agents']]\n",
    "    return c"
   ]
  },
  {
   "cell_type": "code",
   "execution_count": 149,
   "metadata": {
    "collapsed": false,
    "deletable": true,
    "editable": true
   },
   "outputs": [
    {
     "name": "stdout",
     "output_type": "stream",
     "text": [
      "[('LOT', 'http://s1.apideeplink.com/images/airlines/LO.png')]\n"
     ]
    },
    {
     "data": {
      "text/plain": [
       "{'InboundDetails': {'Carriers': [('LOT',\n",
       "    'http://s1.apideeplink.com/images/airlines/LO.png')],\n",
       "  'Duration': 120,\n",
       "  'arrival_date': datetime.date(2017, 3, 25),\n",
       "  'arrival_time': datetime.time(21, 55),\n",
       "  'date': datetime.date(2017, 3, 25),\n",
       "  'time': datetime.time(19, 55)},\n",
       " 'OutboundDetails': {'Carriers': [('LOT',\n",
       "    'http://s1.apideeplink.com/images/airlines/LO.png')],\n",
       "  'Duration': 120,\n",
       "  'arrival_date': datetime.date(2017, 3, 20),\n",
       "  'arrival_time': datetime.time(19, 10),\n",
       "  'date': datetime.date(2017, 3, 20),\n",
       "  'time': datetime.time(17, 10)},\n",
       " 'PricingOptions': [{'Agents': ['http://s1.apideeplink.com/images/websites/gtbf.png'],\n",
       "   'DeeplinkUrl': 'http://partners.api.skyscanner.net/apiservices/deeplink/v2?_cje=glpEOc06Ufm4YL6UUHf3kEolgpMnGr4wmrQheXcA1hhUYcFGUdNQsnXBLcaYkZLR&url=http%3a%2f%2fwww.apideeplink.com%2ftransport_deeplink%2f4.0%2fCH%2fen-gb%2fCHF%2fgtbf%2f2%2f17648.18563.2017-03-20%2c18563.17648.2017-03-25%2fair%2ftrava%2fflights%3fitinerary%3dflight%7c-32093%7c419%7c17648%7c2017-03-20T17%3a10%7c18563%7c2017-03-20T19%3a10%2cflight%7c-32093%7c420%7c18563%7c2017-03-25T19%3a55%7c17648%7c2017-03-25T21%3a55%26carriers%3d-32093%26passengers%3d1%26channel%3ddataapi%26cabin_class%3deconomy%26facilitated%3dfalse%26ticket_price%3d242.50%26is_npt%3dfalse%26is_multipart%3dfalse%26client_id%3dskyscanner_b2b%26request_id%3dce698176-e941-4dec-a455-8e7f60ee5f06%26deeplink_ids%3deu-central-1.prod_cdc891596808616efd78d33467d370fd%26commercial_filters%3dfalse%26q_datetime_utc%3d2017-03-18T10%3a37%3a44',\n",
       "   'Price': 242.5,\n",
       "   'QuoteAgeInMinutes': 1},\n",
       "  {'Agents': ['http://s1.apideeplink.com/images/websites/stac.png'],\n",
       "   'DeeplinkUrl': 'http://partners.api.skyscanner.net/apiservices/deeplink/v2?_cje=glpEOc06Ufm4YL6UUHf3kEolgpMnGr4wmrQheXcA1hhUYcFGUdNQsnXBLcaYkZLR&url=http%3a%2f%2fwww.apideeplink.com%2ftransport_deeplink%2f4.0%2fCH%2fen-gb%2fCHF%2fstac%2f2%2f17648.18563.2017-03-20%2c18563.17648.2017-03-25%2fair%2ftrava%2fflights%3fitinerary%3dflight%7c-32093%7c419%7c17648%7c2017-03-20T17%3a10%7c18563%7c2017-03-20T19%3a10%2cflight%7c-32093%7c420%7c18563%7c2017-03-25T19%3a55%7c17648%7c2017-03-25T21%3a55%26carriers%3d-32093%26passengers%3d1%26channel%3ddataapi%26cabin_class%3deconomy%26facilitated%3dfalse%26ticket_price%3d259.33%26is_npt%3dfalse%26is_multipart%3dfalse%26client_id%3dskyscanner_b2b%26request_id%3dce698176-e941-4dec-a455-8e7f60ee5f06%26deeplink_ids%3deu-central-1.prod_c700b439403350afd5d63b3b8187133d%26commercial_filters%3dfalse%26q_datetime_utc%3d2017-03-18T10%3a37%3a47',\n",
       "   'Price': 259.33,\n",
       "   'QuoteAgeInMinutes': 1},\n",
       "  {'Agents': ['http://s1.apideeplink.com/images/websites/tgch.png'],\n",
       "   'DeeplinkUrl': 'http://partners.api.skyscanner.net/apiservices/deeplink/v2?_cje=glpEOc06Ufm4YL6UUHf3kEolgpMnGr4wmrQheXcA1hhUYcFGUdNQsnXBLcaYkZLR&url=http%3a%2f%2fwww.apideeplink.com%2ftransport_deeplink%2f4.0%2fCH%2fen-gb%2fCHF%2ftgch%2f2%2f17648.18563.2017-03-20%2c18563.17648.2017-03-25%2fair%2ftrava%2fflights%3fitinerary%3dflight%7c-32093%7c419%7c17648%7c2017-03-20T17%3a10%7c18563%7c2017-03-20T19%3a10%2cflight%7c-32093%7c420%7c18563%7c2017-03-25T19%3a55%7c17648%7c2017-03-25T21%3a55%26carriers%3d-32093%26passengers%3d1%26channel%3ddataapi%26cabin_class%3deconomy%26facilitated%3dfalse%26ticket_price%3d294.34%26is_npt%3dfalse%26is_multipart%3dfalse%26client_id%3dskyscanner_b2b%26request_id%3dce698176-e941-4dec-a455-8e7f60ee5f06%26deeplink_ids%3deu-central-1.prod_b1d335dbc0aa596e47550fc2c761935f%26commercial_filters%3dfalse%26q_datetime_utc%3d2017-03-18T10%3a37%3a36',\n",
       "   'Price': 294.34,\n",
       "   'QuoteAgeInMinutes': 1},\n",
       "  {'Agents': ['http://s1.apideeplink.com/images/websites/pech.png'],\n",
       "   'DeeplinkUrl': 'http://partners.api.skyscanner.net/apiservices/deeplink/v2?_cje=glpEOc06Ufm4YL6UUHf3kEolgpMnGr4wmrQheXcA1hhUYcFGUdNQsnXBLcaYkZLR&url=http%3a%2f%2fwww.apideeplink.com%2ftransport_deeplink%2f4.0%2fCH%2fen-gb%2fCHF%2fpech%2f2%2f17648.18563.2017-03-20%2c18563.17648.2017-03-25%2fair%2ftrava%2fflights%3fitinerary%3dflight%7c-32093%7c419%7c17648%7c2017-03-20T17%3a10%7c18563%7c2017-03-20T19%3a10%2cflight%7c-32093%7c420%7c18563%7c2017-03-25T19%3a55%7c17648%7c2017-03-25T21%3a55%26carriers%3d-32093%26passengers%3d1%26channel%3ddataapi%26cabin_class%3deconomy%26facilitated%3dfalse%26ticket_price%3d299.56%26is_npt%3dfalse%26is_multipart%3dfalse%26client_id%3dskyscanner_b2b%26request_id%3dce698176-e941-4dec-a455-8e7f60ee5f06%26deeplink_ids%3deu-central-1.prod_9f7e01b4318ab8aa7b4c5ac8ab98f36f%26commercial_filters%3dfalse%26q_datetime_utc%3d2017-03-18T10%3a37%3a37',\n",
       "   'Price': 299.56,\n",
       "   'QuoteAgeInMinutes': 1},\n",
       "  {'Agents': ['http://s1.apideeplink.com/images/websites/lota.png'],\n",
       "   'DeeplinkUrl': 'http://partners.api.skyscanner.net/apiservices/deeplink/v2?_cje=glpEOc06Ufm4YL6UUHf3kEolgpMnGr4wmrQheXcA1hhUYcFGUdNQsnXBLcaYkZLR&url=http%3a%2f%2fwww.apideeplink.com%2ftransport_deeplink%2f4.0%2fCH%2fen-gb%2fCHF%2flota%2f2%2f17648.18563.2017-03-20%2c18563.17648.2017-03-25%2fair%2fairli%2fflights%3fitinerary%3dflight%7c-32093%7c419%7c17648%7c2017-03-20T17%3a10%7c18563%7c2017-03-20T19%3a10%2cflight%7c-32093%7c420%7c18563%7c2017-03-25T19%3a55%7c17648%7c2017-03-25T21%3a55%26carriers%3d-32093%26passengers%3d1%26channel%3ddataapi%26cabin_class%3deconomy%26facilitated%3dfalse%26ticket_price%3d307.48%26is_npt%3dfalse%26is_multipart%3dfalse%26client_id%3dskyscanner_b2b%26request_id%3dce698176-e941-4dec-a455-8e7f60ee5f06%26deeplink_ids%3deu-central-1.prod_55d0a2e4ff28dec98999f8caf63c8826%26commercial_filters%3dfalse%26q_datetime_utc%3d2017-03-18T08%3a24%3a34%26source_website_id%3damad',\n",
       "   'Price': 307.48,\n",
       "   'QuoteAgeInMinutes': 134},\n",
       "  {'Agents': ['http://s1.apideeplink.com/images/websites/atch.png'],\n",
       "   'DeeplinkUrl': 'http://partners.api.skyscanner.net/apiservices/deeplink/v2?_cje=glpEOc06Ufm4YL6UUHf3kEolgpMnGr4wmrQheXcA1hhUYcFGUdNQsnXBLcaYkZLR&url=http%3a%2f%2fwww.apideeplink.com%2ftransport_deeplink%2f4.0%2fCH%2fen-gb%2fCHF%2fatch%2f2%2f17648.18563.2017-03-20%2c18563.17648.2017-03-25%2fair%2ftrava%2fflights%3fitinerary%3dflight%7c-32093%7c419%7c17648%7c2017-03-20T17%3a10%7c18563%7c2017-03-20T19%3a10%2cflight%7c-32093%7c420%7c18563%7c2017-03-25T19%3a55%7c17648%7c2017-03-25T21%3a55%26carriers%3d-32093%26passengers%3d1%26channel%3ddataapi%26cabin_class%3deconomy%26facilitated%3dfalse%26ticket_price%3d309.73%26is_npt%3dfalse%26is_multipart%3dfalse%26client_id%3dskyscanner_b2b%26request_id%3dce698176-e941-4dec-a455-8e7f60ee5f06%26deeplink_ids%3deu-central-1.prod_e60d4aff0578c87c5a24937d8c22758e%26commercial_filters%3dfalse%26q_datetime_utc%3d2017-03-18T10%3a37%3a46',\n",
       "   'Price': 309.73,\n",
       "   'QuoteAgeInMinutes': 1},\n",
       "  {'Agents': ['http://s1.apideeplink.com/images/websites/bfch.png'],\n",
       "   'DeeplinkUrl': 'http://partners.api.skyscanner.net/apiservices/deeplink/v2?_cje=glpEOc06Ufm4YL6UUHf3kEolgpMnGr4wmrQheXcA1hhUYcFGUdNQsnXBLcaYkZLR&url=http%3a%2f%2fwww.apideeplink.com%2ftransport_deeplink%2f4.0%2fCH%2fen-gb%2fCHF%2fbfch%2f2%2f17648.18563.2017-03-20%2c18563.17648.2017-03-25%2fair%2ftrava%2fflights%3fitinerary%3dflight%7c-32093%7c419%7c17648%7c2017-03-20T17%3a10%7c18563%7c2017-03-20T19%3a10%2cflight%7c-32093%7c420%7c18563%7c2017-03-25T19%3a55%7c17648%7c2017-03-25T21%3a55%26carriers%3d-32093%26passengers%3d1%26channel%3ddataapi%26cabin_class%3deconomy%26facilitated%3dfalse%26ticket_price%3d315.91%26is_npt%3dfalse%26is_multipart%3dfalse%26client_id%3dskyscanner_b2b%26request_id%3dce698176-e941-4dec-a455-8e7f60ee5f06%26deeplink_ids%3deu-central-1.prod_3d835a311fa77268a36af203aa39b2b3%26commercial_filters%3dfalse%26q_datetime_utc%3d2017-03-18T10%3a37%3a37',\n",
       "   'Price': 315.91,\n",
       "   'QuoteAgeInMinutes': 1},\n",
       "  {'Agents': ['http://s1.apideeplink.com/images/websites/edch.png'],\n",
       "   'DeeplinkUrl': 'http://partners.api.skyscanner.net/apiservices/deeplink/v2?_cje=glpEOc06Ufm4YL6UUHf3kEolgpMnGr4wmrQheXcA1hhUYcFGUdNQsnXBLcaYkZLR&url=http%3a%2f%2fwww.apideeplink.com%2ftransport_deeplink%2f4.0%2fCH%2fen-gb%2fCHF%2fedch%2f2%2f17648.18563.2017-03-20%2c18563.17648.2017-03-25%2fair%2ftrava%2fflights%3fitinerary%3dflight%7c-32093%7c419%7c17648%7c2017-03-20T17%3a10%7c18563%7c2017-03-20T19%3a10%2cflight%7c-32093%7c420%7c18563%7c2017-03-25T19%3a55%7c17648%7c2017-03-25T21%3a55%26carriers%3d-32093%26passengers%3d1%26channel%3ddataapi%26cabin_class%3deconomy%26facilitated%3dfalse%26ticket_price%3d316.16%26is_npt%3dfalse%26is_multipart%3dfalse%26client_id%3dskyscanner_b2b%26request_id%3dce698176-e941-4dec-a455-8e7f60ee5f06%26deeplink_ids%3deu-central-1.prod_7f43fde07020e844de6aeb4b5df341fb%26commercial_filters%3dfalse%26q_datetime_utc%3d2017-03-18T10%3a37%3a32',\n",
       "   'Price': 316.16,\n",
       "   'QuoteAgeInMinutes': 1}]}"
      ]
     },
     "execution_count": 149,
     "metadata": {},
     "output_type": "execute_result"
    }
   ],
   "source": [
    "process_data(cheapest['Itineraries'][5])"
   ]
  },
  {
   "cell_type": "code",
   "execution_count": 206,
   "metadata": {
    "collapsed": true
   },
   "outputs": [],
   "source": [
    "import json\n",
    "\n",
    "categories_yelp = requests.get('https://www.yelp.com/developers/documentation/v2/all_category_list/categories.json').json()\n",
    "\n",
    "from collections import defaultdict\n",
    "cats = defaultdict(list)\n",
    "for c in categories_yelp:\n",
    "    for p in c['parents']:\n",
    "        cats[p].append({'alias': c['alias'], 'title': c['title']})\n",
    "\n",
    "root_cats = [c for c in categories_yelp if  not c['parents']]\n",
    "\n",
    "all_cats = {c['alias']: {'children': [], 'title': c['title']} for c in categories_yelp}\n",
    "\n",
    "tree = {c['alias']: {'children': all_cats[c['alias']]['children'], 'title': c['title']} for c in root_cats}\n",
    "\n",
    "\n",
    "for c in categories_yelp:\n",
    "    for p in c['parents']:\n",
    "        all_cats[p]['children'].append({c['alias']: all_cats[c['alias']]})"
   ]
  },
  {
   "cell_type": "code",
   "execution_count": 261,
   "metadata": {
    "collapsed": false
   },
   "outputs": [
    {
     "data": {
      "text/plain": [
       "dict_keys(['food', 'arts', 'financialservices', 'education', 'active', 'shopping', 'eventservices', 'localservices', 'bicycles', 'auto', 'massmedia', 'health', 'restaurants', 'professional', 'hotelstravel', 'publicservicesgovt', 'beautysvc', 'nightlife', 'religiousorgs', 'pets', 'homeservices', 'localflavor'])"
      ]
     },
     "execution_count": 261,
     "metadata": {},
     "output_type": "execute_result"
    }
   ],
   "source": [
    "tree.keys()"
   ]
  },
  {
   "cell_type": "code",
   "execution_count": 265,
   "metadata": {
    "collapsed": true
   },
   "outputs": [],
   "source": [
    "from requests_oauthlib import OAuth1"
   ]
  },
  {
   "cell_type": "code",
   "execution_count": 271,
   "metadata": {
    "collapsed": true
   },
   "outputs": [],
   "source": [
    "from config import yelp_consumer_key, yelp_consumer_secret, yelp_token, yelp_token_secret"
   ]
  },
  {
   "cell_type": "code",
   "execution_count": 272,
   "metadata": {
    "collapsed": true
   },
   "outputs": [],
   "source": [
    "auth = OAuth1(yelp_consumer_key, yelp_consumer_secret, yelp_token,\n",
    "              yelp_token_secret)"
   ]
  },
  {
   "cell_type": "code",
   "execution_count": 281,
   "metadata": {
    "collapsed": true
   },
   "outputs": [],
   "source": [
    "r = requests.get(\n",
    "    'https://api.yelp.com/v2/search?location={}&category_filter={}'.format(\n",
    "        'Zurych', 'active'),\n",
    "    auth=auth)"
   ]
  },
  {
   "cell_type": "code",
   "execution_count": 298,
   "metadata": {
    "collapsed": false
   },
   "outputs": [],
   "source": [
    "d = r.json()"
   ]
  },
  {
   "cell_type": "code",
   "execution_count": 299,
   "metadata": {
    "collapsed": true
   },
   "outputs": [],
   "source": [
    "keys = {\n",
    "    'categories', 'display_phone', 'image_url', 'location',\n",
    "    'rating_img_url_small', 'review_count'\n",
    "}\n",
    "\n",
    "\n",
    "def del_keys(x):\n",
    "    copy = deepcopy(x)\n",
    "    for key in copy.keys():\n",
    "        if key not in keys:\n",
    "            del x[key]\n",
    "    copy = deepcopy(x)\n",
    "    for key in copy['location'].keys():\n",
    "        if key != 'coordinate':\n",
    "            del x['location'][key]\n",
    "    return x\n",
    "\n",
    "\n",
    "return [del_keys(x) for x in d['businesses']]"
   ]
  },
  {
   "cell_type": "code",
   "execution_count": null,
   "metadata": {
    "collapsed": true
   },
   "outputs": [],
   "source": []
  }
 ],
 "metadata": {
  "kernelspec": {
   "display_name": "Python 3",
   "language": "python",
   "name": "python3"
  },
  "language_info": {
   "codemirror_mode": {
    "name": "ipython",
    "version": 3
   },
   "file_extension": ".py",
   "mimetype": "text/x-python",
   "name": "python",
   "nbconvert_exporter": "python",
   "pygments_lexer": "ipython3",
   "version": "3.5.2"
  }
 },
 "nbformat": 4,
 "nbformat_minor": 2
}
