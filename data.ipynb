{
 "cells": [
  {
   "cell_type": "code",
   "execution_count": null,
   "metadata": {
    "collapsed": true
   },
   "outputs": [],
   "source": [
    "jsn = [{\"usage\": \"Rech 8886590 K\\u00f6ln-Berlin\", \"counterPartyName\": \"BlaBlaCar\", \"amount\": -31.0, \"bookingDate\": \"2017-03-17\", \"originIban\": \"DE10000000000000000899\"}, {\"usage\": \"Semesterticket\", \"counterPartyName\": \"Studentenwerk Berlin\", \"amount\": -75.5, \"bookingDate\": \"2017-03-16\", \"originIban\": \"DE10000000000000000899\"}, {\"usage\": \"REWE sagt Danke\", \"counterPartyName\": \"Rewe AG\", \"amount\": -115.95, \"bookingDate\": \"2017-03-11\", \"originIban\": \"DE10000000000000000899\"}, {\"usage\": \"REWE sagt Danke\", \"counterPartyName\": \"Rewe AG\", \"amount\": -15.77, \"bookingDate\": \"2017-03-04\", \"originIban\": \"DE10000000000000000899\"}, {\"usage\": \"\\u00dcBERWEISUNG Gehalt August\", \"counterPartyName\": \"Telekom AG\", \"amount\": 233.77, \"bookingDate\": \"2017-03-03\", \"originIban\": \"DE10000000000000000899\"}, {\"usage\": \"SEPA-BASISLASTSCHRIFT SVWZ+ TK-BuchNr 33306543912 Monat 09/16 K258289245 Beitraege\", \"counterPartyName\": \"Techniker Krankenkasse\", \"amount\": -66.98, \"bookingDate\": \"2017-03-01\", \"originIban\": \"DE10000000000000000899\"}, {\"usage\": \"SEPA-BASISLASTSCHRIFT Abrechnungfuer 0178-6571111RNGNR 1163365160\", \"counterPartyName\": \"E-PLUS SERVICE GMBH\", \"amount\": -9.99, \"bookingDate\": \"2017-02-28\", \"originIban\": \"DE10000000000000000899\"}, {\"usage\": \"Ticket Berlin Flughafen-Berlin HBF\", \"counterPartyName\": \"Deutsche Bahn AG\", \"amount\": -9.95, \"bookingDate\": \"2017-02-25\", \"originIban\": \"DE10000000000000000899\"}, {\"usage\": \"Bill nr. 464576523476\", \"counterPartyName\": \"Real London Souvenier's LHR\", \"amount\": -9.46, \"bookingDate\": \"2017-02-25\", \"originIban\": \"DE10000000000000000899\"}, {\"usage\": \"POS mit PIN. Zusatzgep\\u00e4ck\", \"counterPartyName\": \"Lufthansa AG\", \"amount\": -60.95, \"bookingDate\": \"2017-02-25\", \"originIban\": \"DE10000000000000000899\"}, {\"usage\": \"POS mit PIN. Bill nr. 3264123346\", \"counterPartyName\": \"To the golden elephant\", \"amount\": -9.95, \"bookingDate\": \"2017-02-24\", \"originIban\": \"DE10000000000000000899\"}, {\"usage\": \"POS mit PIN. 2 Tickets Lake District-London\", \"counterPartyName\": \"Eastlondon Train association\", \"amount\": -87.16, \"bookingDate\": \"2017-02-24\", \"originIban\": \"DE10000000000000000899\"}, {\"counterPartyName\": \"Claudia M\\u00fcller\", \"bookingDate\": \"2017-02-18\", \"counterPartyIban\": \"DE04100500000006655443\", \"amount\": -270.0, \"usage\": \"\\u00dcBERWEISUNG Miete\", \"originIban\": \"DE10000000000000000899\"}, {\"usage\": \"POS mit PIN. 2 Tickets Cornwall-Lake District\", \"counterPartyName\": \"Eastlondon Train association\", \"amount\": -128.52, \"bookingDate\": \"2017-02-15\", \"originIban\": \"DE10000000000000000899\"}, {\"usage\": \"We hope you will enjoy your stay in the Lake District\", \"counterPartyName\": \"Airbnb\", \"amount\": -54.21, \"bookingDate\": \"2017-02-15\", \"originIban\": \"DE10000000000000000899\"}, {\"usage\": \"Withdrawl 230 pounds at Wadebridge ATM\", \"counterPartyName\": \"Barclays\", \"amount\": -257.67, \"bookingDate\": \"2017-02-11\", \"originIban\": \"DE10000000000000000899\"}, {\"usage\": \"POS mit PIN. 2 Tickets London-Wadebridge, Cornwall\", \"counterPartyName\": \"Eastlondon Train association\", \"amount\": -25.28, \"bookingDate\": \"2017-02-11\", \"originIban\": \"DE10000000000000000899\"}, {\"usage\": \"We hope you will enjoy your stay in Wadebridge, Cornwall\", \"counterPartyName\": \"Airbnb\", \"amount\": -43.57, \"bookingDate\": \"2017-02-10\", \"originIban\": \"DE10000000000000000899\"}, {\"usage\": \"POS mit PIN. Bill Nr. 348773421\", \"counterPartyName\": \"Icebar London\", \"amount\": -23.69, \"bookingDate\": \"2017-02-10\", \"originIban\": \"DE10000000000000000899\"}, {\"usage\": \"POS mit PIN. We hope you had a great view!\", \"counterPartyName\": \"London Eye\", \"amount\": -31.49, \"bookingDate\": \"2017-02-10\", \"originIban\": \"DE10000000000000000899\"}, {\"usage\": \"It's always worth to go duck yourself\", \"counterPartyName\": \"London Duck Tours\", \"amount\": -24.56, \"bookingDate\": \"2017-02-10\", \"originIban\": \"DE10000000000000000899\"}, {\"usage\": \"POS mit PIN. Bill nr. 23565612387\", \"counterPartyName\": \"The one and only Steak in London\", \"amount\": -49.23, \"bookingDate\": \"2017-02-10\", \"originIban\": \"DE10000000000000000899\"}, {\"usage\": \"POS mit PIN. Enjoy!\", \"counterPartyName\": \"Hollister Regent Street\", \"amount\": -57.97, \"bookingDate\": \"2017-02-09\", \"originIban\": \"DE10000000000000000899\"}, {\"usage\": \"POS mit PIN. Thanks for buying at our store\", \"counterPartyName\": \"Abercrombie & Fitch Mayfair\", \"amount\": -98.26, \"bookingDate\": \"2017-02-09\", \"originIban\": \"DE10000000000000000899\"}, {\"usage\": \"POS mit PIN. The world's best bras\", \"counterPartyName\": \"Victoria's Secret Brookstreet, London\", \"amount\": -76.43, \"bookingDate\": \"2017-02-09\", \"originIban\": \"DE10000000000000000899\"}, {\"usage\": \"POS mit PIN. Thanks for buying your groceries at Waitrose\", \"counterPartyName\": \"Waitrose\", \"amount\": -23.32, \"bookingDate\": \"2017-02-08\", \"originIban\": \"DE10000000000000000899\"}, {\"usage\": \"POS mit PIN. Bill nr. 354571286\", \"counterPartyName\": \"Starbucks\", \"amount\": -9.95, \"bookingDate\": \"2017-02-08\", \"originIban\": \"DE10000000000000000899\"}, {\"usage\": \"POS mit PIN. 1x Ticket for the tour\", \"counterPartyName\": \"Madame Tussauds London\", \"amount\": -20.46, \"bookingDate\": \"2017-02-08\", \"originIban\": \"DE10000000000000000899\"}, {\"usage\": \"1 Peperoni L, 1 Hawai M\", \"counterPartyName\": \"Domino's Pizza\", \"amount\": -15.76, \"bookingDate\": \"2017-02-07\", \"originIban\": \"DE10000000000000000899\"}, {\"usage\": \"POS mit PIN. Oystercard 3-day-pass\", \"counterPartyName\": \"London Oyster Tavelcard\", \"amount\": -45.46, \"bookingDate\": \"2017-02-07\", \"originIban\": \"DE10000000000000000899\"}, {\"usage\": \"Withdrawl 400 pounds at LHR\", \"counterPartyName\": \"Barclays\", \"amount\": -465.4, \"bookingDate\": \"2017-02-07\", \"originIban\": \"DE10000000000000000899\"}, {\"usage\": \"POS mit PIN. Ticket Berlin HBF-Berlin Flughafen\", \"counterPartyName\": \"Deutsche Bahn AG\", \"amount\": -9.95, \"bookingDate\": \"2017-02-07\", \"originIban\": \"DE10000000000000000899\"}, {\"usage\": \"\\u00dcBERWEISUNG Gehalt Juli\", \"counterPartyName\": \"Telekom AG\", \"amount\": 755.5, \"bookingDate\": \"2017-02-02\", \"originIban\": \"DE10000000000000000899\"}, {\"usage\": \"POS MIT PIN. Einkauf\", \"counterPartyName\": \"Marktkauf\", \"amount\": -18.36, \"bookingDate\": \"2017-02-01\", \"originIban\": \"DE10000000000000000899\"}, {\"usage\": \"REWE sagt Danke\", \"counterPartyName\": \"Rewe AG\", \"amount\": -11.95, \"bookingDate\": \"2017-01-31\", \"originIban\": \"DE10000000000000000899\"}, {\"usage\": \"Flug TXL-LHR and Ret.\", \"counterPartyName\": \"Lufthansa AG\", \"amount\": -1000.0, \"bookingDate\": \"2017-01-30\", \"originIban\": \"DE10000000000000000899\"}, {\"usage\": \"POS MIT PIN. Berlin Mitte\", \"counterPartyName\": \"Aldi Nord\", \"amount\": -55.98, \"bookingDate\": \"2017-01-30\", \"originIban\": \"DE10000000000000000899\"}, {\"usage\": \"SEPA-BASISLASTSCHRIFT Abrechnungfuer 0178-6571111RNGNR 1163365150\", \"counterPartyName\": \"E-PLUS SERVICE GMBH\", \"amount\": -9.99, \"bookingDate\": \"2017-01-29\", \"originIban\": \"DE10000000000000000899\"}, {\"usage\": \"SEPA-BASISLASTSCHRIFT SVWZ+ TK-BuchNr 33306543912 Monat 08/16 K258289245 Beitraege\", \"counterPartyName\": \"Techniker Krankenkasse\", \"amount\": -66.98, \"bookingDate\": \"2017-01-28\", \"originIban\": \"DE10000000000000000899\"}, {\"usage\": \"Viel Spa\\u00df in London, mein Schatz\", \"counterPartyName\": \"Annemarie Theke\", \"amount\": 1000.0, \"bookingDate\": \"2017-01-28\", \"originIban\": \"DE10000000000000000899\"}, {\"usage\": \"Rech 89777786\", \"counterPartyName\": \"Amazon S.a.r.L.\", \"amount\": -64.56, \"bookingDate\": \"2017-01-28\", \"originIban\": \"DE10000000000000000899\"}, {\"usage\": \"Rech 4576590 K\\u00f6ln-Berlin\", \"counterPartyName\": \"BlaBlaCar\", \"amount\": -27.0, \"bookingDate\": \"2017-01-27\", \"originIban\": \"DE10000000000000000899\"}, {\"usage\": \"POS MIT PIN. Eintritt Dom\", \"counterPartyName\": \"K\\u00f6lner Dom\", \"amount\": -13.98, \"bookingDate\": \"2017-01-26\", \"originIban\": \"DE10000000000000000899\"}, {\"usage\": \"Danke f\\u00fcr ihre Fahrt mit uns\", \"counterPartyName\": \"UBER\", \"amount\": -12.76, \"bookingDate\": \"2017-01-26\", \"originIban\": \"DE10000000000000000899\"}, {\"usage\": \"POS MIT PIN. Rech 4567890\", \"counterPartyName\": \"Kaffe Brandenburg\", \"amount\": -25.57, \"bookingDate\": \"2017-01-25\", \"originIban\": \"DE10000000000000000899\"}, {\"usage\": \"Danke f\\u00fcr ihre Fahrt mit uns\", \"counterPartyName\": \"UBER\", \"amount\": -11.74, \"bookingDate\": \"2017-01-25\", \"originIban\": \"DE10000000000000000899\"}, {\"usage\": \"POS MIT PIN. Bootstour C\", \"counterPartyName\": \"Rheintours\", \"amount\": -23.0, \"bookingDate\": \"2017-01-25\", \"originIban\": \"DE10000000000000000899\"}, {\"usage\": \"Danke f\\u00fcr ihre Fahrt mit uns\", \"counterPartyName\": \"UBER\", \"amount\": -15.25, \"bookingDate\": \"2017-01-24\", \"originIban\": \"DE10000000000000000899\"}, {\"usage\": \"POS MIT PIN. Sie lieben es offensichtlich auch\", \"counterPartyName\": \"McDonalds\", \"amount\": -26.15, \"bookingDate\": \"2017-01-24\", \"originIban\": \"DE10000000000000000899\"}, {\"usage\": \"Danke f\\u00fcr ihre Fahrt mit uns\", \"counterPartyName\": \"UBER\", \"amount\": -15.25, \"bookingDate\": \"2017-01-24\", \"originIban\": \"DE10000000000000000899\"}, {\"usage\": \"Danke f\\u00fcr ihre Fahrt mit uns\", \"counterPartyName\": \"UBER\", \"amount\": -18.28, \"bookingDate\": \"2017-01-24\", \"originIban\": \"DE10000000000000000899\"}, {\"usage\": \"POS MIT PIN. 1x Studententicket\", \"counterPartyName\": \"K\\u00f6lner Schokoladenmuseum\", \"amount\": -4.15, \"bookingDate\": \"2017-01-24\", \"originIban\": \"DE10000000000000000899\"}, {\"usage\": \"Danke fuer Ihren Einkauf\", \"counterPartyName\": \"Aldi Nord\", \"amount\": -44.47, \"bookingDate\": \"2017-01-23\", \"originIban\": \"DE10000000000000000899\"}, {\"usage\": \"Rech 4567890 Berlin-K\\u00f6ln\", \"counterPartyName\": \"BlaBlaCar\", \"amount\": -23.0, \"bookingDate\": \"2017-01-22\", \"originIban\": \"DE10000000000000000899\"}, {\"usage\": \"Wir w\\u00fcnschen ihnen eine sch\\u00f6ne Reise nach K\\u00f6ln!\", \"counterPartyName\": \"Airbnb\", \"amount\": -56.0, \"bookingDate\": \"2017-01-22\", \"originIban\": \"DE10000000000000000899\"}, {\"counterPartyName\": \"Claudia M\\u00fcller\", \"bookingDate\": \"2017-01-19\", \"counterPartyIban\": \"DE04100500000006655443\", \"amount\": -270.0, \"usage\": \"\\u00dcBERWEISUNG Miete\", \"originIban\": \"DE10000000000000000899\"}, {\"usage\": \"POS MIT PIN. Einkauf\", \"counterPartyName\": \"Marktkauf\", \"amount\": -115.95, \"bookingDate\": \"2017-01-09\", \"originIban\": \"DE10000000000000000899\"}, {\"usage\": \"Kampuslauf\", \"counterPartyName\": \"Studentenwerk Berlin, Sport\", \"amount\": -15.0, \"bookingDate\": \"2017-01-06\", \"originIban\": \"DE10000000000000000899\"}, {\"usage\": \"\\u00dcBERWEISUNG Gehalt Juni\", \"counterPartyName\": \"Telekom AG\", \"amount\": 633.5, \"bookingDate\": \"2017-01-02\", \"originIban\": \"DE10000000000000000899\"}, {\"usage\": \"SEPA-BASISLASTSCHRIFT Abrechnungfuer 0178-6571111RNGNR 1163365140\", \"counterPartyName\": \"E-PLUS SERVICE GMBH\", \"amount\": -9.99, \"bookingDate\": \"2016-12-29\", \"originIban\": \"DE10000000000000000899\"}, {\"usage\": \"SEPA-BASISLASTSCHRIFT SVWZ+ TK-BuchNr 33306543912 Monat 07/16 K258289245 Beitraege\", \"counterPartyName\": \"Techniker Krankenkasse\", \"amount\": -66.98, \"bookingDate\": \"2016-12-29\", \"originIban\": \"DE10000000000000000899\"}, {\"usage\": \"POS MIT PIN. Einkauf\", \"counterPartyName\": \"Marktkauf\", \"amount\": -15.66, \"bookingDate\": \"2016-12-25\", \"originIban\": \"DE10000000000000000899\"}, {\"usage\": \"POS MIT PIN. Berlin Mitte\", \"counterPartyName\": \"Aldi Nord\", \"amount\": -22.66, \"bookingDate\": \"2016-12-23\", \"originIban\": \"DE10000000000000000899\"}, {\"counterPartyName\": \"Claudia M\\u00fcller\", \"bookingDate\": \"2016-12-21\", \"counterPartyIban\": \"DE04100500000006655443\", \"amount\": -270.0, \"usage\": \"\\u00dcBERWEISUNG Miete\", \"originIban\": \"DE10000000000000000899\"}, {\"usage\": \"POS MIT PIN. Einkauf\", \"counterPartyName\": \"Rewe AG\", \"amount\": -22.95, \"bookingDate\": \"2016-12-09\", \"originIban\": \"DE10000000000000000899\"}, {\"usage\": \"Barauszahlung, Markt\", \"counterPartyName\": \"Deutsche Bank\", \"amount\": -200.0, \"bookingDate\": \"2016-12-07\", \"originIban\": \"DE10000000000000000899\"}, {\"usage\": \"Ihr Drogeriemarkt am Platz\", \"counterPartyName\": \"DM\", \"amount\": -8.66, \"bookingDate\": \"2016-12-07\", \"originIban\": \"DE10000000000000000899\"}, {\"usage\": \"Wir hoffen sie hatten eine gute Fahrt nach Berlin\", \"counterPartyName\": \"Blablacar\", \"amount\": -30.0, \"bookingDate\": \"2016-12-05\", \"originIban\": \"DE10000000000000000899\"}, {\"usage\": \"POS MIT PIN. Museumtour\", \"counterPartyName\": \"Alte Pinakothek\", \"amount\": -11.99, \"bookingDate\": \"2016-12-04\", \"originIban\": \"DE10000000000000000899\"}, {\"usage\": \"POS MIT PIN. Rechnung 4234568\", \"counterPartyName\": \"Gamsbar\", \"amount\": -25.0, \"bookingDate\": \"2016-12-04\", \"originIban\": \"DE10000000000000000899\"}, {\"usage\": \"POS MIT PIN. RechnungsNr. 2367563423452\", \"counterPartyName\": \"P1\", \"amount\": -115.34, \"bookingDate\": \"2016-12-04\", \"originIban\": \"DE10000000000000000899\"}, {\"usage\": \"POS MIT PIN. N' Guadn!\", \"counterPartyName\": \"L'Osteria am Gasteig\", \"amount\": -15.0, \"bookingDate\": \"2016-12-04\", \"originIban\": \"DE10000000000000000899\"}, {\"usage\": \"POS MIT PIN. Guten Appetit\", \"counterPartyName\": \"Vapiano Odeonsplatz\", \"amount\": -10.0, \"bookingDate\": \"2016-12-03\", \"originIban\": \"DE10000000000000000899\"}, {\"usage\": \"\\u00dcBERWEISUNG Gehalt Mai\", \"counterPartyName\": \"Telekom AG\", \"amount\": 750.0, \"bookingDate\": \"2016-12-02\", \"originIban\": \"DE10000000000000000899\"}, {\"usage\": \"Wir hoffen sie hatten eine gute Fahrt nach M\\u00fcnchen\", \"counterPartyName\": \"Blablacar\", \"amount\": -30.0, \"bookingDate\": \"2016-12-02\", \"originIban\": \"DE10000000000000000899\"}, {\"usage\": \"SEPA-BASISLASTSCHRIFT SVWZ+ TK-BuchNr 33306543912 Monat 06/16 K258289245 Beitraege\", \"counterPartyName\": \"Techniker Krankenkasse\", \"amount\": -66.98, \"bookingDate\": \"2016-11-30\", \"originIban\": \"DE10000000000000000899\"}, {\"usage\": \"POS MIT PIN. Einkauf\", \"counterPartyName\": \"Marktkauf\", \"amount\": -19.55, \"bookingDate\": \"2016-11-29\", \"originIban\": \"DE10000000000000000899\"}, {\"usage\": \"SEPA-BASISLASTSCHRIFT Abrechnungfuer 0178-6571111RNGNR 1163365130\", \"counterPartyName\": \"E-PLUS SERVICE GMBH\", \"amount\": -9.99, \"bookingDate\": \"2016-11-28\", \"originIban\": \"DE10000000000000000899\"}, {\"usage\": \"Rechnung\", \"counterPartyName\": \"IKEA\", \"amount\": -200.95, \"bookingDate\": \"2016-11-28\", \"originIban\": \"DE10000000000000000899\"}, {\"usage\": \"Sport\", \"counterPartyName\": \"Karstadt AG\", \"amount\": -66.95, \"bookingDate\": \"2016-11-28\", \"originIban\": \"DE10000000000000000899\"}, {\"usage\": \"POS MIT PIN. Berlin Mitte\", \"counterPartyName\": \"Aldi Nord\", \"amount\": -28.45, \"bookingDate\": \"2016-11-26\", \"originIban\": \"DE10000000000000000899\"}, {\"counterPartyName\": \"Claudia M\\u00fcller\", \"bookingDate\": \"2016-11-18\", \"counterPartyIban\": \"DE04100500000006655443\", \"amount\": -270.0, \"usage\": \"\\u00dcBERWEISUNG Miete\", \"originIban\": \"DE10000000000000000899\"}, {\"usage\": \"POS MIT PIN. Einkauf\", \"counterPartyName\": \"Marktkauf\", \"amount\": -67.45, \"bookingDate\": \"2016-11-14\", \"originIban\": \"DE10000000000000000899\"}, {\"usage\": \"Joga fuer Anfaenger\", \"counterPartyName\": \"Studentenwerk Berlin, Sport\", \"amount\": -70.0, \"bookingDate\": \"2016-11-04\", \"originIban\": \"DE10000000000000000899\"}, {\"usage\": \"Barauszahlung, Markt\", \"counterPartyName\": \"Deutsche Bank\", \"amount\": -200.0, \"bookingDate\": \"2016-11-02\", \"originIban\": \"DE10000000000000000899\"}, {\"usage\": \"\\u00dcBERWEISUNG Gehalt April\", \"counterPartyName\": \"Telekom AG\", \"amount\": 750.0, \"bookingDate\": \"2016-11-02\", \"originIban\": \"DE10000000000000000899\"}, {\"usage\": \"POS MIT PIN. Einkauf\", \"counterPartyName\": \"Marktkauf\", \"amount\": -32.55, \"bookingDate\": \"2016-11-01\", \"originIban\": \"DE10000000000000000899\"}, {\"usage\": \"SEPA-BASISLASTSCHRIFT Abrechnungfuer 0178-6571111RNGNR 1163365120\", \"counterPartyName\": \"E-PLUS SERVICE GMBH\", \"amount\": -9.99, \"bookingDate\": \"2016-10-29\", \"originIban\": \"DE10000000000000000899\"}, {\"usage\": \"POS MIT PIN. Einkauf\", \"counterPartyName\": \"Marktkauf\", \"amount\": -13.49, \"bookingDate\": \"2016-10-28\", \"originIban\": \"DE10000000000000000899\"}, {\"usage\": \"SEPA-BASISLASTSCHRIFT SVWZ+ TK-BuchNr 33306543912 Monat 05/16 K258289245 Beitraege\", \"counterPartyName\": \"Techniker Krankenkasse\", \"amount\": -66.98, \"bookingDate\": \"2016-10-28\", \"originIban\": \"DE10000000000000000899\"}, {\"usage\": \"POS MIT PIN. Berlin Mitte\", \"counterPartyName\": \"Aldi Nord\", \"amount\": -36.87, \"bookingDate\": \"2016-10-26\", \"originIban\": \"DE10000000000000000899\"}, {\"counterPartyName\": \"Claudia M\\u00fcller\", \"bookingDate\": \"2016-10-20\", \"counterPartyIban\": \"DE04100500000006655443\", \"amount\": -270.0, \"usage\": \"\\u00dcBERWEISUNG Miete\", \"originIban\": \"DE10000000000000000899\"}, {\"usage\": \"POS MIT PIN. Berlin Mitte\", \"counterPartyName\": \"Aldi Nord\", \"amount\": -32.65, \"bookingDate\": \"2016-10-03\", \"originIban\": \"DE10000000000000000899\"}, {\"usage\": \"\\u00dcBERWEISUNG Gehalt M\\u00e4rz\", \"counterPartyName\": \"Telekom AG\", \"amount\": 750.0, \"bookingDate\": \"2016-10-02\", \"originIban\": \"DE10000000000000000899\"}, {\"usage\": \"Ihr Drogeriemarkt am Platz\", \"counterPartyName\": \"DM\", \"amount\": -25.95, \"bookingDate\": \"2016-10-01\", \"originIban\": \"DE10000000000000000899\"}, {\"usage\": \"POS MIT PIN. Einkauf\", \"counterPartyName\": \"Marktkauf\", \"amount\": -22.25, \"bookingDate\": \"2016-10-01\", \"originIban\": \"DE10000000000000000899\"}, {\"usage\": \"SEPA-BASISLASTSCHRIFT SVWZ+ TK-BuchNr 33306543912 Monat 04/16 K258289245 Beitraege\", \"counterPartyName\": \"Techniker Krankenkasse\", \"amount\": -66.98, \"bookingDate\": \"2016-09-29\", \"originIban\": \"DE10000000000000000899\"}, {\"usage\": \"SEPA-BASISLASTSCHRIFT Abrechnungfuer 0178-6571111RNGNR 1163365110\", \"counterPartyName\": \"E-PLUS SERVICE GMBH\", \"amount\": -9.99, \"bookingDate\": \"2016-09-28\", \"originIban\": \"DE10000000000000000899\"}, {\"usage\": \"POS MIT PIN. Einkauf\", \"counterPartyName\": \"Marktkauf\", \"amount\": -35.65, \"bookingDate\": \"2016-09-27\", \"originIban\": \"DE10000000000000000899\"}, {\"usage\": \"POS MIT PIN. Berlin Mitte\", \"counterPartyName\": \"Aldi Nord\", \"amount\": -36.22, \"bookingDate\": \"2016-09-20\", \"originIban\": \"DE10000000000000000899\"}, {\"counterPartyName\": \"Claudia M\\u00fcller\", \"bookingDate\": \"2016-09-18\", \"counterPartyIban\": \"DE04100500000006655443\", \"amount\": -270.0, \"usage\": \"\\u00dcBERWEISUNG Miete\", \"originIban\": \"DE10000000000000000899\"}, {\"usage\": \"POS MIT PIN. Einkauf\", \"counterPartyName\": \"Rewe AG\", \"amount\": -13.45, \"bookingDate\": \"2016-09-09\", \"originIban\": \"DE10000000000000000899\"}, {\"usage\": \"Barauszahlung, Schule\", \"counterPartyName\": \"Deutsche Bank\", \"amount\": -200.0, \"bookingDate\": \"2016-09-02\", \"originIban\": \"DE10000000000000000899\"}, {\"usage\": \"POS MIT PIN. Einkauf\", \"counterPartyName\": \"Marktkauf\", \"amount\": -44.67, \"bookingDate\": \"2016-09-02\", \"originIban\": \"DE10000000000000000899\"}, {\"usage\": \"\\u00dcBERWEISUNG Gehalt Februar\", \"counterPartyName\": \"Telekom AG\", \"amount\": 750.0, \"bookingDate\": \"2016-09-02\", \"originIban\": \"DE10000000000000000899\"}, {\"usage\": \"Rech 69788786\", \"counterPartyName\": \"Amazon S.a.r.L.\", \"amount\": -48.55, \"bookingDate\": \"2016-08-30\", \"originIban\": \"DE10000000000000000899\"}, {\"usage\": \"POS MIT PIN. Berlin Mitte\", \"counterPartyName\": \"Aldi Nord\", \"amount\": -37.95, \"bookingDate\": \"2016-08-30\", \"originIban\": \"DE10000000000000000899\"}, {\"usage\": \"SEPA-BASISLASTSCHRIFT SVWZ+ TK-BuchNr 33306543912 Monat 03/16 K258289245 Beitraege \", \"counterPartyName\": \"Techniker Krankenkasse\", \"amount\": -66.98, \"bookingDate\": \"2016-08-29\", \"originIban\": \"DE10000000000000000899\"}, {\"usage\": \"POS MIT PIN. Einkauf\", \"counterPartyName\": \"Rewe AG\", \"amount\": -13.45, \"bookingDate\": \"2016-08-29\", \"originIban\": \"DE10000000000000000899\"}, {\"usage\": \"SEPA-BASISLASTSCHRIFT Abrechnungfuer 0178-6571111RNGNR 1163365100\", \"counterPartyName\": \"E-PLUS SERVICE GMBH\", \"amount\": -9.99, \"bookingDate\": \"2016-08-29\", \"originIban\": \"DE10000000000000000899\"}, {\"usage\": \"POS MIT PIN. Berlin Mitte\", \"counterPartyName\": \"Aldi Nord\", \"amount\": -11.99, \"bookingDate\": \"2016-08-23\", \"originIban\": \"DE10000000000000000899\"}, {\"usage\": \"POS MIT PIN. Berlin Mitte\", \"counterPartyName\": \"Aldi Nord\", \"amount\": -17.27, \"bookingDate\": \"2016-08-21\", \"originIban\": \"DE10000000000000000899\"}, {\"counterPartyName\": \"Claudia M\\u00fcller\", \"bookingDate\": \"2016-08-19\", \"counterPartyIban\": \"DE04100500000006655443\", \"amount\": -270.0, \"usage\": \"\\u00dcBERWEISUNG Miete\", \"originIban\": \"DE10000000000000000899\"}]"
   ]
  },
  {
   "cell_type": "code",
   "execution_count": null,
   "metadata": {
    "collapsed": false
   },
   "outputs": [],
   "source": [
    "import pandas as pd"
   ]
  },
  {
   "cell_type": "code",
   "execution_count": null,
   "metadata": {
    "collapsed": false
   },
   "outputs": [],
   "source": [
    "df = pd.DataFrame(jsn)"
   ]
  },
  {
   "cell_type": "code",
   "execution_count": null,
   "metadata": {
    "collapsed": false
   },
   "outputs": [],
   "source": [
    "places = df.counterPartyName.unique()"
   ]
  },
  {
   "cell_type": "code",
   "execution_count": null,
   "metadata": {
    "collapsed": false
   },
   "outputs": [],
   "source": [
    "df.sort_values(by='bookingDate')"
   ]
  },
  {
   "cell_type": "code",
   "execution_count": null,
   "metadata": {
    "collapsed": false
   },
   "outputs": [],
   "source": [
    "places"
   ]
  },
  {
   "cell_type": "code",
   "execution_count": null,
   "metadata": {
    "collapsed": true
   },
   "outputs": [],
   "source": [
    "used = ['BlaBlaCar', 'Uber', 'museum', 'Airbnb', 'hotel', 'bar', 'Souvenier', 'McDonalds']"
   ]
  },
  {
   "cell_type": "code",
   "execution_count": null,
   "metadata": {
    "collapsed": false
   },
   "outputs": [],
   "source": [
    "from geotext import GeoText\n",
    "cities_list = set()\n",
    "for place in places:\n",
    "    for tok in place.split():\n",
    "        cities = GeoText(tok)\n",
    "        cities_list = cities_list.union(set(cities.cities))\n",
    "print(cities_list)"
   ]
  },
  {
   "cell_type": "code",
   "execution_count": null,
   "metadata": {
    "collapsed": true
   },
   "outputs": [],
   "source": [
    "import re"
   ]
  },
  {
   "cell_type": "code",
   "execution_count": null,
   "metadata": {
    "collapsed": false
   },
   "outputs": [],
   "source": [
    "for patt in used:\n",
    "    if re.findall(' {} '.format(patt.lower()), ' '.join(places).lower()):\n",
    "        print(patt)"
   ]
  },
  {
   "cell_type": "code",
   "execution_count": null,
   "metadata": {
    "collapsed": false
   },
   "outputs": [],
   "source": [
    "sk = {'Quotes': [{'QuoteDateTime': '2017-03-17T23:43:00', 'OutboundLeg': {'DepartureDate': '2017-03-20T00:00:00', 'CarrierIds': [1047], 'OriginId': 90711, 'DestinationId': 98424}, 'QuoteId': 1, 'Direct': False, 'MinPrice': 108.0}, {'OutboundLeg': {'DepartureDate': '2017-03-20T00:00:00', 'CarrierIds': [1384], 'OriginId': 90711, 'DestinationId': 98424}, 'InboundLeg': {'DepartureDate': '2017-03-25T00:00:00', 'CarrierIds': [1384], 'OriginId': 98424, 'DestinationId': 90711}, 'QuoteDateTime': '2017-03-17T18:56:00', 'QuoteId': 2, 'Direct': True, 'MinPrice': 253.0}, {'OutboundLeg': {'DepartureDate': '2017-03-20T00:00:00', 'CarrierIds': [1571], 'OriginId': 90711, 'DestinationId': 98424}, 'InboundLeg': {'DepartureDate': '2017-03-25T00:00:00', 'CarrierIds': [1571], 'OriginId': 98424, 'DestinationId': 90711}, 'QuoteDateTime': '2017-03-17T18:57:00', 'QuoteId': 3, 'Direct': False, 'MinPrice': 183.0}], 'Places': [{'Name': 'Warsaw Chopin', 'Type': 'Station', 'CityId': 'WARS', 'SkyscannerCode': 'WAW', 'PlaceId': 90711, 'IataCode': 'WAW', 'CountryName': 'Poland', 'CityName': 'Warsaw'}, {'Name': 'Zurich', 'Type': 'Station', 'CityId': 'ZURI', 'SkyscannerCode': 'ZRH', 'PlaceId': 98424, 'IataCode': 'ZRH', 'CountryName': 'Switzerland', 'CityName': 'Zurich'}], 'Currencies': [{'Code': 'CHF', 'SymbolOnLeft': True, 'SpaceBetweenAmountAndSymbol': True, 'RoundingCoefficient': 0, 'Symbol': 'CHF', 'ThousandsSeparator': \"'\", 'DecimalSeparator': '.', 'DecimalDigits': 2}], 'Carriers': [{'Name': 'Vueling Airlines', 'CarrierId': 7}, {'Name': 'Air Berlin', 'CarrierId': 834}, {'Name': 'airBaltic', 'CarrierId': 900}, {'Name': 'eurowings', 'CarrierId': 1047}, {'Name': 'KLM', 'CarrierId': 1324}, {'Name': 'LOT', 'CarrierId': 1375}, {'Name': 'Swiss', 'CarrierId': 1384}, {'Name': 'Ukraine International', 'CarrierId': 1571}, {'Name': 'SAS', 'CarrierId': 1707}]}"
   ]
  },
  {
   "cell_type": "code",
   "execution_count": null,
   "metadata": {
    "collapsed": false
   },
   "outputs": [],
   "source": [
    "carriers_mapping = sk['Carriers']\n",
    "currencies_mapping = sk['Currencies']\n",
    "places_mapping = sk['Places']\n",
    "flights = sk['Quotes']"
   ]
  },
  {
   "cell_type": "code",
   "execution_count": null,
   "metadata": {
    "collapsed": false
   },
   "outputs": [],
   "source": [
    "places_mapping = {x['PlaceId']: x['Name'] for x in places_mapping}"
   ]
  },
  {
   "cell_type": "code",
   "execution_count": null,
   "metadata": {
    "collapsed": false
   },
   "outputs": [],
   "source": [
    "carriers_mapping = {x['CarrierId']: x['Name'] for x in carriers_mapping}"
   ]
  },
  {
   "cell_type": "code",
   "execution_count": null,
   "metadata": {
    "collapsed": false
   },
   "outputs": [],
   "source": [
    "currencies_mapping"
   ]
  },
  {
   "cell_type": "code",
   "execution_count": null,
   "metadata": {
    "collapsed": false
   },
   "outputs": [],
   "source": [
    "for f in flights:\n",
    "    if 'OutboundLeg' in f and 'InboundLeg' in f:\n",
    "        print(\n",
    "            f['MinPrice'],currencies_mapping[0]['Symbol'], '\\n',\n",
    "            'Outbound: ', '\\n', carriers_mapping[f['OutboundLeg']['CarrierIds'][0]],\n",
    "            'Departure: ', datetime.strptime(f['OutboundLeg']['DepartureDate'],'%Y-%m-%dT%H:%M:%S'), '\\n',\n",
    "            'Inbound: ', '\\n', carriers_mapping[f['InboundLeg']['CarrierIds'][0]],\n",
    "            'Departure: ', datetime.strptime(f['InboundLeg']['DepartureDate'], '%Y-%m-%dT%H:%M:%S')\n",
    "        )"
   ]
  },
  {
   "cell_type": "code",
   "execution_count": null,
   "metadata": {
    "collapsed": false
   },
   "outputs": [],
   "source": [
    "flights"
   ]
  },
  {
   "cell_type": "code",
   "execution_count": null,
   "metadata": {
    "collapsed": true
   },
   "outputs": [],
   "source": [
    "from datetime import datetime"
   ]
  },
  {
   "cell_type": "code",
   "execution_count": null,
   "metadata": {
    "collapsed": false
   },
   "outputs": [],
   "source": [
    "d = datetime.strptime(flights[1]['InboundLeg']['DepartureDate'], '%Y-%m-%dT%H:%M:%S')"
   ]
  },
  {
   "cell_type": "code",
   "execution_count": 1,
   "metadata": {
    "collapsed": true
   },
   "outputs": [],
   "source": [
    "import time\n",
    "from datetime import datetime, timedelta\n",
    "\n",
    "import requests\n",
    "\n",
    "from skyscanner_api_ import DataProvider\n",
    "import pandas as pd\n",
    "\n",
    "API_KEY = 'ma595491219569679758263226220714'"
   ]
  },
  {
   "cell_type": "code",
   "execution_count": 2,
   "metadata": {
    "collapsed": false
   },
   "outputs": [],
   "source": [
    "from skyscanner_live_pricing import LivePricing"
   ]
  },
  {
   "cell_type": "code",
   "execution_count": 86,
   "metadata": {
    "collapsed": true
   },
   "outputs": [],
   "source": [
    "outbound_date = (datetime.today() + timedelta(days=2)).date()\n",
    "inbound_date = (datetime.today() + timedelta(days=7)).date()"
   ]
  },
  {
   "cell_type": "code",
   "execution_count": 87,
   "metadata": {
    "collapsed": false
   },
   "outputs": [],
   "source": [
    "cheapest = LivePricing(\n",
    "        DataProvider.get_suggestions('Warszawa')[1]['code'].split('-')[0],\n",
    "        DataProvider.get_suggestions('Zurych')[-1]['code'].split('-')[0],\n",
    "        outbound_date,\n",
    "        inbound_date,\n",
    "        1).get_cheapest()"
   ]
  },
  {
   "cell_type": "code",
   "execution_count": 88,
   "metadata": {
    "collapsed": false
   },
   "outputs": [
    {
     "data": {
      "text/plain": [
       "dict_keys(['Segments', 'Status', 'Legs', 'Query', 'Itineraries', 'Currencies', 'Carriers', 'SessionKey', 'Places', 'Agents'])"
      ]
     },
     "execution_count": 88,
     "metadata": {},
     "output_type": "execute_result"
    }
   ],
   "source": [
    "cheapest.keys()"
   ]
  },
  {
   "cell_type": "code",
   "execution_count": 131,
   "metadata": {
    "collapsed": true
   },
   "outputs": [],
   "source": [
    "from copy import deepcopy\n",
    "\n",
    "def del_keys(d):\n",
    "    copy = deepcopy(d)\n",
    "    for key in d.keys():\n",
    "        if key not in {'Carriers', 'arrival_date', 'arrival_time', 'time', 'date', 'Duration'}:\n",
    "            del copy[key]\n",
    "    return copy"
   ]
  },
  {
   "cell_type": "code",
   "execution_count": 137,
   "metadata": {
    "collapsed": true
   },
   "outputs": [],
   "source": [
    "carriers_mapping = {x['Id']: (x['Name'], x['ImageUrl']) for x in cheapest['Carriers']}\n",
    "agents_mapping = {c['Id']:c['ImageUrl'] for c in cheapest['Agents']}\n",
    "details = {c['Id']: c for c in cheapest['Legs']}"
   ]
  },
  {
   "cell_type": "code",
   "execution_count": 147,
   "metadata": {
    "collapsed": false
   },
   "outputs": [],
   "source": [
    "def process_data(c):\n",
    "    inbound = details[c['InboundLegId']]\n",
    "    outbound = details[c['OutboundLegId']]\n",
    "\n",
    "    inbound['date'] = datetime.strptime(inbound['Departure'],'%Y-%m-%dT%H:%M:%S').date()\n",
    "    outbound['date'] = datetime.strptime(outbound['Departure'],'%Y-%m-%dT%H:%M:%S').date()\n",
    "    inbound['time'] = datetime.strptime(inbound['Departure'],'%Y-%m-%dT%H:%M:%S').time()\n",
    "    outbound['time'] = datetime.strptime(outbound['Departure'],'%Y-%m-%dT%H:%M:%S').time()\n",
    "\n",
    "    inbound['arrival_date'] = datetime.strptime(inbound['Arrival'],'%Y-%m-%dT%H:%M:%S').date()\n",
    "    outbound['arrival_date'] = datetime.strptime(outbound['Arrival'],'%Y-%m-%dT%H:%M:%S').date()\n",
    "    inbound['arrival_time'] = datetime.strptime(inbound['Arrival'],'%Y-%m-%dT%H:%M:%S').time()\n",
    "    outbound['arrival_time'] = datetime.strptime(outbound['Arrival'],'%Y-%m-%dT%H:%M:%S').time()\n",
    "\n",
    "    print(inbound['Carriers'])\n",
    "    \n",
    "    try:\n",
    "        inbound['Carriers'] = [carriers_mapping[x] for x in inbound['Carriers']]\n",
    "    except:\n",
    "        pass\n",
    "    \n",
    "    try:\n",
    "        outbound['Carriers'] = [carriers_mapping[x] for x in outbound['Carriers']]\n",
    "    except:\n",
    "        pass\n",
    "\n",
    "\n",
    "\n",
    "\n",
    "    c['InboundDetails'] = del_keys(inbound)\n",
    "    c['OutboundDetails'] = del_keys(outbound)\n",
    "\n",
    "    del c['OutboundLegId']\n",
    "    del c['InboundLegId']\n",
    "    del c['BookingDetailsLink']\n",
    "    for x in c['PricingOptions']:\n",
    "        x['Agents'] = [agents_mapping[p] for p in x['Agents']]\n",
    "    return c"
   ]
  },
  {
   "cell_type": "code",
   "execution_count": 149,
   "metadata": {
    "collapsed": false
   },
   "outputs": [
    {
     "name": "stdout",
     "output_type": "stream",
     "text": [
      "[('LOT', 'http://s1.apideeplink.com/images/airlines/LO.png')]\n"
     ]
    },
    {
     "data": {
      "text/plain": [
       "{'InboundDetails': {'Carriers': [('LOT',\n",
       "    'http://s1.apideeplink.com/images/airlines/LO.png')],\n",
       "  'Duration': 120,\n",
       "  'arrival_date': datetime.date(2017, 3, 25),\n",
       "  'arrival_time': datetime.time(21, 55),\n",
       "  'date': datetime.date(2017, 3, 25),\n",
       "  'time': datetime.time(19, 55)},\n",
       " 'OutboundDetails': {'Carriers': [('LOT',\n",
       "    'http://s1.apideeplink.com/images/airlines/LO.png')],\n",
       "  'Duration': 120,\n",
       "  'arrival_date': datetime.date(2017, 3, 20),\n",
       "  'arrival_time': datetime.time(19, 10),\n",
       "  'date': datetime.date(2017, 3, 20),\n",
       "  'time': datetime.time(17, 10)},\n",
       " 'PricingOptions': [{'Agents': ['http://s1.apideeplink.com/images/websites/gtbf.png'],\n",
       "   'DeeplinkUrl': 'http://partners.api.skyscanner.net/apiservices/deeplink/v2?_cje=glpEOc06Ufm4YL6UUHf3kEolgpMnGr4wmrQheXcA1hhUYcFGUdNQsnXBLcaYkZLR&url=http%3a%2f%2fwww.apideeplink.com%2ftransport_deeplink%2f4.0%2fCH%2fen-gb%2fCHF%2fgtbf%2f2%2f17648.18563.2017-03-20%2c18563.17648.2017-03-25%2fair%2ftrava%2fflights%3fitinerary%3dflight%7c-32093%7c419%7c17648%7c2017-03-20T17%3a10%7c18563%7c2017-03-20T19%3a10%2cflight%7c-32093%7c420%7c18563%7c2017-03-25T19%3a55%7c17648%7c2017-03-25T21%3a55%26carriers%3d-32093%26passengers%3d1%26channel%3ddataapi%26cabin_class%3deconomy%26facilitated%3dfalse%26ticket_price%3d242.50%26is_npt%3dfalse%26is_multipart%3dfalse%26client_id%3dskyscanner_b2b%26request_id%3dce698176-e941-4dec-a455-8e7f60ee5f06%26deeplink_ids%3deu-central-1.prod_cdc891596808616efd78d33467d370fd%26commercial_filters%3dfalse%26q_datetime_utc%3d2017-03-18T10%3a37%3a44',\n",
       "   'Price': 242.5,\n",
       "   'QuoteAgeInMinutes': 1},\n",
       "  {'Agents': ['http://s1.apideeplink.com/images/websites/stac.png'],\n",
       "   'DeeplinkUrl': 'http://partners.api.skyscanner.net/apiservices/deeplink/v2?_cje=glpEOc06Ufm4YL6UUHf3kEolgpMnGr4wmrQheXcA1hhUYcFGUdNQsnXBLcaYkZLR&url=http%3a%2f%2fwww.apideeplink.com%2ftransport_deeplink%2f4.0%2fCH%2fen-gb%2fCHF%2fstac%2f2%2f17648.18563.2017-03-20%2c18563.17648.2017-03-25%2fair%2ftrava%2fflights%3fitinerary%3dflight%7c-32093%7c419%7c17648%7c2017-03-20T17%3a10%7c18563%7c2017-03-20T19%3a10%2cflight%7c-32093%7c420%7c18563%7c2017-03-25T19%3a55%7c17648%7c2017-03-25T21%3a55%26carriers%3d-32093%26passengers%3d1%26channel%3ddataapi%26cabin_class%3deconomy%26facilitated%3dfalse%26ticket_price%3d259.33%26is_npt%3dfalse%26is_multipart%3dfalse%26client_id%3dskyscanner_b2b%26request_id%3dce698176-e941-4dec-a455-8e7f60ee5f06%26deeplink_ids%3deu-central-1.prod_c700b439403350afd5d63b3b8187133d%26commercial_filters%3dfalse%26q_datetime_utc%3d2017-03-18T10%3a37%3a47',\n",
       "   'Price': 259.33,\n",
       "   'QuoteAgeInMinutes': 1},\n",
       "  {'Agents': ['http://s1.apideeplink.com/images/websites/tgch.png'],\n",
       "   'DeeplinkUrl': 'http://partners.api.skyscanner.net/apiservices/deeplink/v2?_cje=glpEOc06Ufm4YL6UUHf3kEolgpMnGr4wmrQheXcA1hhUYcFGUdNQsnXBLcaYkZLR&url=http%3a%2f%2fwww.apideeplink.com%2ftransport_deeplink%2f4.0%2fCH%2fen-gb%2fCHF%2ftgch%2f2%2f17648.18563.2017-03-20%2c18563.17648.2017-03-25%2fair%2ftrava%2fflights%3fitinerary%3dflight%7c-32093%7c419%7c17648%7c2017-03-20T17%3a10%7c18563%7c2017-03-20T19%3a10%2cflight%7c-32093%7c420%7c18563%7c2017-03-25T19%3a55%7c17648%7c2017-03-25T21%3a55%26carriers%3d-32093%26passengers%3d1%26channel%3ddataapi%26cabin_class%3deconomy%26facilitated%3dfalse%26ticket_price%3d294.34%26is_npt%3dfalse%26is_multipart%3dfalse%26client_id%3dskyscanner_b2b%26request_id%3dce698176-e941-4dec-a455-8e7f60ee5f06%26deeplink_ids%3deu-central-1.prod_b1d335dbc0aa596e47550fc2c761935f%26commercial_filters%3dfalse%26q_datetime_utc%3d2017-03-18T10%3a37%3a36',\n",
       "   'Price': 294.34,\n",
       "   'QuoteAgeInMinutes': 1},\n",
       "  {'Agents': ['http://s1.apideeplink.com/images/websites/pech.png'],\n",
       "   'DeeplinkUrl': 'http://partners.api.skyscanner.net/apiservices/deeplink/v2?_cje=glpEOc06Ufm4YL6UUHf3kEolgpMnGr4wmrQheXcA1hhUYcFGUdNQsnXBLcaYkZLR&url=http%3a%2f%2fwww.apideeplink.com%2ftransport_deeplink%2f4.0%2fCH%2fen-gb%2fCHF%2fpech%2f2%2f17648.18563.2017-03-20%2c18563.17648.2017-03-25%2fair%2ftrava%2fflights%3fitinerary%3dflight%7c-32093%7c419%7c17648%7c2017-03-20T17%3a10%7c18563%7c2017-03-20T19%3a10%2cflight%7c-32093%7c420%7c18563%7c2017-03-25T19%3a55%7c17648%7c2017-03-25T21%3a55%26carriers%3d-32093%26passengers%3d1%26channel%3ddataapi%26cabin_class%3deconomy%26facilitated%3dfalse%26ticket_price%3d299.56%26is_npt%3dfalse%26is_multipart%3dfalse%26client_id%3dskyscanner_b2b%26request_id%3dce698176-e941-4dec-a455-8e7f60ee5f06%26deeplink_ids%3deu-central-1.prod_9f7e01b4318ab8aa7b4c5ac8ab98f36f%26commercial_filters%3dfalse%26q_datetime_utc%3d2017-03-18T10%3a37%3a37',\n",
       "   'Price': 299.56,\n",
       "   'QuoteAgeInMinutes': 1},\n",
       "  {'Agents': ['http://s1.apideeplink.com/images/websites/lota.png'],\n",
       "   'DeeplinkUrl': 'http://partners.api.skyscanner.net/apiservices/deeplink/v2?_cje=glpEOc06Ufm4YL6UUHf3kEolgpMnGr4wmrQheXcA1hhUYcFGUdNQsnXBLcaYkZLR&url=http%3a%2f%2fwww.apideeplink.com%2ftransport_deeplink%2f4.0%2fCH%2fen-gb%2fCHF%2flota%2f2%2f17648.18563.2017-03-20%2c18563.17648.2017-03-25%2fair%2fairli%2fflights%3fitinerary%3dflight%7c-32093%7c419%7c17648%7c2017-03-20T17%3a10%7c18563%7c2017-03-20T19%3a10%2cflight%7c-32093%7c420%7c18563%7c2017-03-25T19%3a55%7c17648%7c2017-03-25T21%3a55%26carriers%3d-32093%26passengers%3d1%26channel%3ddataapi%26cabin_class%3deconomy%26facilitated%3dfalse%26ticket_price%3d307.48%26is_npt%3dfalse%26is_multipart%3dfalse%26client_id%3dskyscanner_b2b%26request_id%3dce698176-e941-4dec-a455-8e7f60ee5f06%26deeplink_ids%3deu-central-1.prod_55d0a2e4ff28dec98999f8caf63c8826%26commercial_filters%3dfalse%26q_datetime_utc%3d2017-03-18T08%3a24%3a34%26source_website_id%3damad',\n",
       "   'Price': 307.48,\n",
       "   'QuoteAgeInMinutes': 134},\n",
       "  {'Agents': ['http://s1.apideeplink.com/images/websites/atch.png'],\n",
       "   'DeeplinkUrl': 'http://partners.api.skyscanner.net/apiservices/deeplink/v2?_cje=glpEOc06Ufm4YL6UUHf3kEolgpMnGr4wmrQheXcA1hhUYcFGUdNQsnXBLcaYkZLR&url=http%3a%2f%2fwww.apideeplink.com%2ftransport_deeplink%2f4.0%2fCH%2fen-gb%2fCHF%2fatch%2f2%2f17648.18563.2017-03-20%2c18563.17648.2017-03-25%2fair%2ftrava%2fflights%3fitinerary%3dflight%7c-32093%7c419%7c17648%7c2017-03-20T17%3a10%7c18563%7c2017-03-20T19%3a10%2cflight%7c-32093%7c420%7c18563%7c2017-03-25T19%3a55%7c17648%7c2017-03-25T21%3a55%26carriers%3d-32093%26passengers%3d1%26channel%3ddataapi%26cabin_class%3deconomy%26facilitated%3dfalse%26ticket_price%3d309.73%26is_npt%3dfalse%26is_multipart%3dfalse%26client_id%3dskyscanner_b2b%26request_id%3dce698176-e941-4dec-a455-8e7f60ee5f06%26deeplink_ids%3deu-central-1.prod_e60d4aff0578c87c5a24937d8c22758e%26commercial_filters%3dfalse%26q_datetime_utc%3d2017-03-18T10%3a37%3a46',\n",
       "   'Price': 309.73,\n",
       "   'QuoteAgeInMinutes': 1},\n",
       "  {'Agents': ['http://s1.apideeplink.com/images/websites/bfch.png'],\n",
       "   'DeeplinkUrl': 'http://partners.api.skyscanner.net/apiservices/deeplink/v2?_cje=glpEOc06Ufm4YL6UUHf3kEolgpMnGr4wmrQheXcA1hhUYcFGUdNQsnXBLcaYkZLR&url=http%3a%2f%2fwww.apideeplink.com%2ftransport_deeplink%2f4.0%2fCH%2fen-gb%2fCHF%2fbfch%2f2%2f17648.18563.2017-03-20%2c18563.17648.2017-03-25%2fair%2ftrava%2fflights%3fitinerary%3dflight%7c-32093%7c419%7c17648%7c2017-03-20T17%3a10%7c18563%7c2017-03-20T19%3a10%2cflight%7c-32093%7c420%7c18563%7c2017-03-25T19%3a55%7c17648%7c2017-03-25T21%3a55%26carriers%3d-32093%26passengers%3d1%26channel%3ddataapi%26cabin_class%3deconomy%26facilitated%3dfalse%26ticket_price%3d315.91%26is_npt%3dfalse%26is_multipart%3dfalse%26client_id%3dskyscanner_b2b%26request_id%3dce698176-e941-4dec-a455-8e7f60ee5f06%26deeplink_ids%3deu-central-1.prod_3d835a311fa77268a36af203aa39b2b3%26commercial_filters%3dfalse%26q_datetime_utc%3d2017-03-18T10%3a37%3a37',\n",
       "   'Price': 315.91,\n",
       "   'QuoteAgeInMinutes': 1},\n",
       "  {'Agents': ['http://s1.apideeplink.com/images/websites/edch.png'],\n",
       "   'DeeplinkUrl': 'http://partners.api.skyscanner.net/apiservices/deeplink/v2?_cje=glpEOc06Ufm4YL6UUHf3kEolgpMnGr4wmrQheXcA1hhUYcFGUdNQsnXBLcaYkZLR&url=http%3a%2f%2fwww.apideeplink.com%2ftransport_deeplink%2f4.0%2fCH%2fen-gb%2fCHF%2fedch%2f2%2f17648.18563.2017-03-20%2c18563.17648.2017-03-25%2fair%2ftrava%2fflights%3fitinerary%3dflight%7c-32093%7c419%7c17648%7c2017-03-20T17%3a10%7c18563%7c2017-03-20T19%3a10%2cflight%7c-32093%7c420%7c18563%7c2017-03-25T19%3a55%7c17648%7c2017-03-25T21%3a55%26carriers%3d-32093%26passengers%3d1%26channel%3ddataapi%26cabin_class%3deconomy%26facilitated%3dfalse%26ticket_price%3d316.16%26is_npt%3dfalse%26is_multipart%3dfalse%26client_id%3dskyscanner_b2b%26request_id%3dce698176-e941-4dec-a455-8e7f60ee5f06%26deeplink_ids%3deu-central-1.prod_7f43fde07020e844de6aeb4b5df341fb%26commercial_filters%3dfalse%26q_datetime_utc%3d2017-03-18T10%3a37%3a32',\n",
       "   'Price': 316.16,\n",
       "   'QuoteAgeInMinutes': 1}]}"
      ]
     },
     "execution_count": 149,
     "metadata": {},
     "output_type": "execute_result"
    }
   ],
   "source": [
    "process_data(cheapest['Itineraries'][5])"
   ]
  },
  {
   "cell_type": "code",
   "execution_count": null,
   "metadata": {
    "collapsed": true
   },
   "outputs": [],
   "source": []
  }
 ],
 "metadata": {
  "kernelspec": {
   "display_name": "Python 3",
   "language": "python",
   "name": "python3"
  },
  "language_info": {
   "codemirror_mode": {
    "name": "ipython",
    "version": 3
   },
   "file_extension": ".py",
   "mimetype": "text/x-python",
   "name": "python",
   "nbconvert_exporter": "python",
   "pygments_lexer": "ipython3",
   "version": "3.5.2"
  }
 },
 "nbformat": 4,
 "nbformat_minor": 2
}
